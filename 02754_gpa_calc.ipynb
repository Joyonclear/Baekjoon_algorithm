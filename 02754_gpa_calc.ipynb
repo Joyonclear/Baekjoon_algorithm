{
 "cells": [
  {
   "cell_type": "code",
   "execution_count": 16,
   "id": "dress-monitor",
   "metadata": {},
   "outputs": [
    {
     "name": "stdout",
     "output_type": "stream",
     "text": [
      "D0\n",
      "1.0\n"
     ]
    }
   ],
   "source": [
    "grade = input()\n",
    "score = 0\n",
    "extra = 0\n",
    "if grade == 'F':\n",
    "    print(0.0)\n",
    "else:\n",
    "    if grade[1] == '+':\n",
    "        extra = 0.3\n",
    "    elif grade[1] == '0':\n",
    "        extra = 0\n",
    "    elif grade[1] == '-':\n",
    "        extra = -0.3\n",
    "        \n",
    "    if grade[0] == 'A':\n",
    "        score = 4\n",
    "    elif grade[0] == 'B':\n",
    "        score = 3\n",
    "    elif grade[0] == 'C':\n",
    "        score = 2\n",
    "    elif grade[0] == 'D':\n",
    "        score = 1\n",
    "    \n",
    "    score += extra\n",
    "    print('{:.1f}'.format(round(score,1)))"
   ]
  },
  {
   "cell_type": "code",
   "execution_count": null,
   "id": "lovely-butter",
   "metadata": {},
   "outputs": [],
   "source": []
  }
 ],
 "metadata": {
  "kernelspec": {
   "display_name": "Python 3 (ipykernel)",
   "language": "python",
   "name": "python3"
  },
  "language_info": {
   "codemirror_mode": {
    "name": "ipython",
    "version": 3
   },
   "file_extension": ".py",
   "mimetype": "text/x-python",
   "name": "python",
   "nbconvert_exporter": "python",
   "pygments_lexer": "ipython3",
   "version": "3.8.10"
  }
 },
 "nbformat": 4,
 "nbformat_minor": 5
}
