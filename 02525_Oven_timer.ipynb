{
 "cells": [
  {
   "cell_type": "code",
   "execution_count": null,
   "id": "1a767e95",
   "metadata": {},
   "outputs": [],
   "source": [
    "h,m = map(int,input().split())\n",
    "t = int(input())\n",
    "if m+t < 60:\n",
    "    m += t\n",
    "else:\n",
    "    k = (m+t)//60\n",
    "    m = (m+t)%60\n",
    "    if h+k < 24:\n",
    "        h += k\n",
    "    else:\n",
    "        h = h+k-24\n",
    "print(h,m)"
   ]
  }
 ],
 "metadata": {
  "kernelspec": {
   "display_name": "Python 3 (ipykernel)",
   "language": "python",
   "name": "python3"
  },
  "language_info": {
   "codemirror_mode": {
    "name": "ipython",
    "version": 3
   },
   "file_extension": ".py",
   "mimetype": "text/x-python",
   "name": "python",
   "nbconvert_exporter": "python",
   "pygments_lexer": "ipython3",
   "version": "3.10.0"
  }
 },
 "nbformat": 4,
 "nbformat_minor": 5
}
