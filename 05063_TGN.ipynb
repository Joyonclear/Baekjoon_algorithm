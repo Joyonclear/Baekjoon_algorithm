{
 "cells": [
  {
   "cell_type": "code",
   "execution_count": 2,
   "id": "welsh-attack",
   "metadata": {},
   "outputs": [
    {
     "name": "stdout",
     "output_type": "stream",
     "text": [
      "3\n",
      "0 100 70\n",
      "advertise\n",
      "100 130 30\n",
      "does not matter\n",
      "-100 -70 40\n",
      "do not advertise\n"
     ]
    }
   ],
   "source": [
    "for i in range(int(input())):\n",
    "    a,b,c = map(int, input().split())\n",
    "    x = b-a-c\n",
    "    if x > 0:\n",
    "        print('advertise')\n",
    "    elif x < 0:\n",
    "        print('do not advertise')\n",
    "    else:\n",
    "        print('does not matter')"
   ]
  }
 ],
 "metadata": {
  "kernelspec": {
   "display_name": "Python 3 (ipykernel)",
   "language": "python",
   "name": "python3"
  },
  "language_info": {
   "codemirror_mode": {
    "name": "ipython",
    "version": 3
   },
   "file_extension": ".py",
   "mimetype": "text/x-python",
   "name": "python",
   "nbconvert_exporter": "python",
   "pygments_lexer": "ipython3",
   "version": "3.8.10"
  }
 },
 "nbformat": 4,
 "nbformat_minor": 5
}
