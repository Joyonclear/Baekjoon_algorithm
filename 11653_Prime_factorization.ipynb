{
 "cells": [
  {
   "cell_type": "code",
   "execution_count": 1,
   "id": "98d9aa66",
   "metadata": {},
   "outputs": [
    {
     "name": "stdout",
     "output_type": "stream",
     "text": [
      "72\n",
      "2\n",
      "2\n",
      "2\n",
      "3\n",
      "3\n"
     ]
    }
   ],
   "source": [
    "origin = int(input())\n",
    "x = origin\n",
    "res = []\n",
    "div = 2\n",
    "while(True):\n",
    "    if div > origin:\n",
    "        break\n",
    "    elif x % div == 0:\n",
    "        x = x // div\n",
    "        res.append(div)\n",
    "        div = 2\n",
    "    else:\n",
    "        div += 1\n",
    "for i in res:\n",
    "    print(i)"
   ]
  }
 ],
 "metadata": {
  "kernelspec": {
   "display_name": "Python 3 (ipykernel)",
   "language": "python",
   "name": "python3"
  },
  "language_info": {
   "codemirror_mode": {
    "name": "ipython",
    "version": 3
   },
   "file_extension": ".py",
   "mimetype": "text/x-python",
   "name": "python",
   "nbconvert_exporter": "python",
   "pygments_lexer": "ipython3",
   "version": "3.10.0"
  }
 },
 "nbformat": 4,
 "nbformat_minor": 5
}
