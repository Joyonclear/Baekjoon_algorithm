{
 "cells": [
  {
   "cell_type": "code",
   "execution_count": 28,
   "id": "8ca3fffe",
   "metadata": {},
   "outputs": [
    {
     "name": "stdout",
     "output_type": "stream",
     "text": [
      "23 48 59\n",
      "2515\n"
     ]
    }
   ],
   "source": [
    "ho, mi, se = map(int, input().split())\n",
    "time = int(input())\n",
    "r_se = time % 60\n",
    "r_mi = (time // 60) % 60\n",
    "r_ho = (time // 60) // 60"
   ]
  },
  {
   "cell_type": "code",
   "execution_count": 29,
   "id": "40a1fcbd",
   "metadata": {},
   "outputs": [],
   "source": [
    "se += r_se\n",
    "mi += r_mi\n",
    "ho += r_ho"
   ]
  },
  {
   "cell_type": "code",
   "execution_count": 30,
   "id": "4b578d86",
   "metadata": {},
   "outputs": [],
   "source": [
    "if se < 60:\n",
    "    None\n",
    "else:\n",
    "    mi += se // 60\n",
    "    se = se % 60"
   ]
  },
  {
   "cell_type": "code",
   "execution_count": 31,
   "id": "8090c046",
   "metadata": {},
   "outputs": [],
   "source": [
    "if mi < 60:\n",
    "    None\n",
    "else:\n",
    "    ho += mi // 60\n",
    "    mi = mi % 60"
   ]
  },
  {
   "cell_type": "code",
   "execution_count": 32,
   "id": "ec262969",
   "metadata": {},
   "outputs": [],
   "source": [
    "if ho < 24:\n",
    "    None\n",
    "else:\n",
    "    ho = ho % 24"
   ]
  },
  {
   "cell_type": "code",
   "execution_count": 33,
   "id": "a438fc77",
   "metadata": {},
   "outputs": [
    {
     "name": "stdout",
     "output_type": "stream",
     "text": [
      "0 30 54\n"
     ]
    }
   ],
   "source": [
    "print(ho,mi,se)"
   ]
  }
 ],
 "metadata": {
  "kernelspec": {
   "display_name": "Python 3 (ipykernel)",
   "language": "python",
   "name": "python3"
  },
  "language_info": {
   "codemirror_mode": {
    "name": "ipython",
    "version": 3
   },
   "file_extension": ".py",
   "mimetype": "text/x-python",
   "name": "python",
   "nbconvert_exporter": "python",
   "pygments_lexer": "ipython3",
   "version": "3.10.0"
  }
 },
 "nbformat": 4,
 "nbformat_minor": 5
}
