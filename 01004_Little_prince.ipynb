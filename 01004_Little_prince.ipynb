{
 "cells": [
  {
   "cell_type": "code",
   "execution_count": 70,
   "id": "868d343e",
   "metadata": {},
   "outputs": [],
   "source": [
    "# 1. 테스트 갯수\n",
    "# 2. 시작지점, 도착지점\n",
    "# 3. 행성계 갯수\n",
    "# 4. 각 행성 중점, 반지름"
   ]
  },
  {
   "cell_type": "code",
   "execution_count": 71,
   "id": "f12347d4",
   "metadata": {},
   "outputs": [],
   "source": [
    "# 거리에 관계없이 행성계 통과를 최소화 하는 것이 목표\n",
    "# 행성계는 설 맞닿아 있는 경우가 없음\n",
    "# 따라서 출발/도착 지점을 포함하되, 공통되지 않는 행성계 갯수가 정답"
   ]
  },
  {
   "cell_type": "code",
   "execution_count": 73,
   "id": "ea00ed70",
   "metadata": {},
   "outputs": [
    {
     "name": "stdout",
     "output_type": "stream",
     "text": [
      "3\n",
      "-5 1 5 1\n",
      "3\n",
      "0 0 2\n",
      "-6 1 2\n",
      "6 2 2\n",
      "2 3 13 2\n",
      "8\n",
      "-3 -1 1\n",
      "2 2 3\n",
      "2 3 1\n",
      "0 1 7\n",
      "-4 5 1\n",
      "12 1 1\n",
      "12 1 2\n",
      "12 1 3\n",
      "102 16 19 -108\n",
      "12\n",
      "-107 175 135\n",
      "-38 -115 42\n",
      "140 23 70\n",
      "148 -2 39\n",
      "-198 -49 89\n",
      "172 -151 39\n",
      "-179 -52 43\n",
      "148 42 150\n",
      "176 0 10\n",
      "153 68 120\n",
      "-56 109 16\n",
      "-187 -174 8\n"
     ]
    }
   ],
   "source": [
    "# 데이터 입력\n",
    "point_list = []\n",
    "orbit_inf_list = [] # (테스트카운트)(몇번째 궤도)(중점/반지름)\n",
    "\n",
    "test_cnt = int(input())\n",
    "for i in range(test_cnt):\n",
    "    point_list.append(list(map(int,input().split())))\n",
    "    orbit_cnt = int(input())\n",
    "    temp=[]\n",
    "    for j in range(orbit_cnt):\n",
    "        temp.append(list(map(int,input().split())))\n",
    "    orbit_inf_list.append(temp)"
   ]
  },
  {
   "cell_type": "code",
   "execution_count": 74,
   "id": "024f7c44",
   "metadata": {},
   "outputs": [],
   "source": [
    "# 메인\n",
    "def containing(x,y,cx,cy,r):\n",
    "    distance = ((x-cx)**2 + (y-cy)**2)**(0.5)\n",
    "    if r > distance:\n",
    "        return 1\n",
    "    else:\n",
    "        return 0"
   ]
  },
  {
   "cell_type": "code",
   "execution_count": 75,
   "id": "eee946b7",
   "metadata": {},
   "outputs": [
    {
     "name": "stdout",
     "output_type": "stream",
     "text": [
      "2\n",
      "5\n",
      "3\n"
     ]
    }
   ],
   "source": [
    "for i in range(test_cnt):\n",
    "    flag_list = []\n",
    "    for k in range(2):\n",
    "        temp = []\n",
    "        for j in range(len(orbit_inf_list[i])):\n",
    "            a = point_list[i][0+k*2]\n",
    "            b = point_list[i][1+k*2]\n",
    "            c = orbit_inf_list[i][j][0]\n",
    "            d = orbit_inf_list[i][j][1]\n",
    "            f = orbit_inf_list[i][j][2]\n",
    "            temp.append(containing(a,b,c,d,f))\n",
    "        flag_list.append(temp)\n",
    "    res = 0\n",
    "    for t in range(len(orbit_inf_list[i])):\n",
    "        if flag_list[0][t] != flag_list[1][t]:\n",
    "            res += 1\n",
    "    print(res)"
   ]
  },
  {
   "cell_type": "code",
   "execution_count": null,
   "id": "419a7a01",
   "metadata": {},
   "outputs": [],
   "source": []
  }
 ],
 "metadata": {
  "kernelspec": {
   "display_name": "Python 3 (ipykernel)",
   "language": "python",
   "name": "python3"
  },
  "language_info": {
   "codemirror_mode": {
    "name": "ipython",
    "version": 3
   },
   "file_extension": ".py",
   "mimetype": "text/x-python",
   "name": "python",
   "nbconvert_exporter": "python",
   "pygments_lexer": "ipython3",
   "version": "3.10.0"
  }
 },
 "nbformat": 4,
 "nbformat_minor": 5
}
