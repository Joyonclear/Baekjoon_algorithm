{
 "cells": [
  {
   "cell_type": "code",
   "execution_count": 43,
   "id": "818546bb",
   "metadata": {},
   "outputs": [
    {
     "name": "stdout",
     "output_type": "stream",
     "text": [
      "200\n",
      "19\n"
     ]
    }
   ],
   "source": [
    "s = int(input())\n",
    "num = 1\n",
    "cnt = 1\n",
    "while True:\n",
    "    if num > s:\n",
    "        break\n",
    "    else:\n",
    "        cnt += 1\n",
    "        num += cnt\n",
    "if cnt == 1:\n",
    "    print(1)\n",
    "else:\n",
    "    print(cnt-1)"
   ]
  },
  {
   "cell_type": "code",
   "execution_count": null,
   "id": "80223f73",
   "metadata": {},
   "outputs": [],
   "source": []
  }
 ],
 "metadata": {
  "kernelspec": {
   "display_name": "Python 3 (ipykernel)",
   "language": "python",
   "name": "python3"
  },
  "language_info": {
   "codemirror_mode": {
    "name": "ipython",
    "version": 3
   },
   "file_extension": ".py",
   "mimetype": "text/x-python",
   "name": "python",
   "nbconvert_exporter": "python",
   "pygments_lexer": "ipython3",
   "version": "3.10.0"
  }
 },
 "nbformat": 4,
 "nbformat_minor": 5
}
