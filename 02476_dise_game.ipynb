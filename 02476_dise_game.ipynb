{
 "cells": [
  {
   "cell_type": "code",
   "execution_count": 1,
   "id": "cardiovascular-kidney",
   "metadata": {},
   "outputs": [
    {
     "name": "stdout",
     "output_type": "stream",
     "text": [
      "3\n",
      "3 3 6\n",
      "2 2 2\n",
      "6 2 5\n",
      "12000\n"
     ]
    }
   ],
   "source": [
    "gold = 0\n",
    "for i in range(int(input())):\n",
    "    temp = 0\n",
    "    a,b,c = map(int,input().split())\n",
    "    if a == b:\n",
    "        if b == c:\n",
    "            temp = 10000+1000*a\n",
    "        else:\n",
    "            temp = 1000+100*a\n",
    "    else:\n",
    "        if b == c or c == a:\n",
    "            temp = 1000+100*c\n",
    "        else:\n",
    "            max_ = a\n",
    "            if b > max_:\n",
    "                max_ = b\n",
    "            if c > max_:\n",
    "                max_ = c\n",
    "            temp = 100*max_\n",
    "    if temp > gold:\n",
    "        gold = temp\n",
    "print(gold)"
   ]
  },
  {
   "cell_type": "code",
   "execution_count": null,
   "id": "sensitive-occurrence",
   "metadata": {},
   "outputs": [],
   "source": []
  }
 ],
 "metadata": {
  "kernelspec": {
   "display_name": "Python 3 (ipykernel)",
   "language": "python",
   "name": "python3"
  },
  "language_info": {
   "codemirror_mode": {
    "name": "ipython",
    "version": 3
   },
   "file_extension": ".py",
   "mimetype": "text/x-python",
   "name": "python",
   "nbconvert_exporter": "python",
   "pygments_lexer": "ipython3",
   "version": "3.8.10"
  }
 },
 "nbformat": 4,
 "nbformat_minor": 5
}
